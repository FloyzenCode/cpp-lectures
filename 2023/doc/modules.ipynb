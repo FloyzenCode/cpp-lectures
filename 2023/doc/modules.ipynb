{
 "cells": [
  {
   "attachments": {},
   "cell_type": "markdown",
   "metadata": {},
   "source": [
    "<div align=\"center\"><h1 style=\"font-size: 2em; font-weight: 700\">List modules for this course</h1></div>"
   ]
  },
  {
   "attachments": {},
   "cell_type": "markdown",
   "metadata": {},
   "source": [
    "---"
   ]
  },
  {
   "attachments": {},
   "cell_type": "markdown",
   "metadata": {},
   "source": [
    "**Модуль 1: Основы языка C++**\n",
    "\n",
    "- Введение в C++ и его некоторые моменты\n",
    "- Установка и настройка среды разработки\n",
    "- Структура программы на C++\n",
    "- Переменные и операторы\n",
    "- Условные выражения и циклы\n",
    "- Ввод и вывод данных\n",
    "- Функции и процедуры\n",
    "- Массивы и указатели\n",
    "\n",
    "**Модуль 2: Углубленное программирование**\n",
    "***ООП (объектно-ориентированное программирование) в С++***\n",
    "- Классы и объекты\n",
    "- Конструкторы и деструкторы\n",
    "- Наследование и полиморфизм\n",
    "\n",
    "***Шаблоны (template)*** <br/>\n",
    "***Ввод и вывод файлов*** <br />\n",
    "**Стандартная библиотека C++**\n",
    "\n",
    "---\n",
    "\n",
    "**Практические примеры и проекты**\n",
    "\n",
    "**Bonus track:**\n",
    "- CMake + VSCode development\n",
    "- Semantic proccesses in C++"
   ]
  }
 ],
 "metadata": {
  "language_info": {
   "name": "python"
  },
  "orig_nbformat": 4
 },
 "nbformat": 4,
 "nbformat_minor": 2
}
