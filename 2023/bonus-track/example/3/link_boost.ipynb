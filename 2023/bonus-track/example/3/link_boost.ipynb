{
 "cells": [
  {
   "attachments": {},
   "cell_type": "markdown",
   "metadata": {},
   "source": [
    "<div align=\"center\"><h2><b>Link Boost library</b></h2></div>\n",
    "\n",
    "---"
   ]
  },
  {
   "attachments": {},
   "cell_type": "markdown",
   "metadata": {},
   "source": [
    "**[install boost](https://www.boost.org/)**\n",
    "- from boost docs:\n",
    "\n",
    "```\n",
    "5.1   Easy Build and Install\n",
    "Issue the following commands in the shell (don't type $; that represents the shell's prompt):\n",
    "\n",
    "$ cd path/to/boost_1_82_0\n",
    "$ ./bootstrap.sh --help\n",
    "Select your configuration options and invoke ./bootstrap.sh again without the --help option. Unless you have write permission in your \n",
    "system's /usr/local/ directory, you'll probably want to at least use\n",
    "\n",
    "$ ./bootstrap.sh --prefix=path/to/installation/prefix\n",
    "to install somewhere else. Also, consider using the --show-libraries and --with-libraries=library-name-list options to limit the long wait you'll \n",
    "experience if you build everything. Finally,\n",
    "\n",
    "$ ./b2 install\n",
    "will leave Boost binaries in the lib/ subdirectory of your installation prefix. You will also find a copy of the Boost headers in the include/ subdirectory \n",
    "of the installation prefix, so you can henceforth use that directory as an #include path in place of the Boost root directory.\n",
    "```\n",
    "\n",
    "---\n",
    "\n",
    "- create CMakeLists.txt & build:\n",
    "```shell\n",
    "cmake_minimum_required(VERSION 3.20)\n",
    "project(build_project_boost)\n",
    "set(CMAKE_CXX_STANDARD 17)\n",
    "set(Boost_INCLUDE_DIR /path/to/boost)\n",
    "set(Boost_LIBRARY_DIR /path/to/boost/stage/lib)\n",
    "set(Boost_USE_STATIC_LIBS ON)\n",
    "find_package(Boost COMPONENTS filesystem thread REQUIRED)\n",
    "include_directories(${Boost_INCLUDE_DIR})\n",
    "link_directories(${Boost_LIBRARY_DIR})\n",
    "add_executable(name_file main.cpp src/client.cpp src/client.hpp)\n",
    "target_link_libraries(name_file ${Boost_LIBRARIES})\n",
    "```"
   ]
  }
 ],
 "metadata": {
  "language_info": {
   "name": "python"
  },
  "orig_nbformat": 4
 },
 "nbformat": 4,
 "nbformat_minor": 2
}
